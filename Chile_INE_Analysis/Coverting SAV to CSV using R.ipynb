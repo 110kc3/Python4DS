{
 "cells": [
  {
   "cell_type": "code",
   "execution_count": 4,
   "metadata": {},
   "outputs": [
    {
     "name": "stderr",
     "output_type": "stream",
     "text": [
      "Warning message in read.spss(fileNameIn):\n",
      "“Duplicated levels in factor r_p_c: Limache, Olmué”Warning message in read.spss(fileNameIn):\n",
      "“Undeclared level(s) 0, 1, 2, 3, 4, 5, 6, 7, 8 added in variable: curso”Warning message in read.spss(fileNameIn):\n",
      "“Undeclared level(s) 4, 8 added in variable: proveedor”Warning message in read.spss(fileNameIn):\n",
      "“Undeclared level(s) 10025, 20004, 20007, 20010, 20011, 20012, 20014, 20015, 20016, 20017, 20018, 20019, 20020, 20027, 20028, 20037, 20039, 20040, 20041, 20042, 20044, 20047, 20051, 20052, 30011, 30013, 30014, 30016, 30021, 30034, 30039, 30043, 30051, 40002, 40011, 40014, 40016, 40017, 40020, 40025, 40033, 40036, 40041, 40042, 40043, 50002 added in variable: nacionalidad”Warning message in read.spss(fileNameIn):\n",
      "“Undeclared level(s) 1, 2, 3, 4, 5, 6, 7, 8, 9, 10 added in variable: b15_2”Warning message in read.spss(fileNameIn):\n",
      "“Undeclared level(s) 1949, 1950, 1951, 1952, 1953, 1955, 1956, 1957, 1958, 1959, 1960, 1961, 1962, 1963, 1964, 1965, 1966, 1967, 1968, 1969, 1970, 1971, 1972, 1973, 1974, 1975, 1976, 1977, 1978, 1979, 1980, 1981, 1982, 1983, 1984, 1985, 1986, 1987, 1988, 1989, 1990, 1991, 1992, 1993, 1994, 1995, 1996, 1997, 1998, 1999, 2000, 2001, 2002, 2003, 2004, 2005, 2006, 2007, 2008, 2009, 2010, 2011, 2012, 2013, 2014, 2015, 2016, 2017, 2018 added in variable: b17_ano”Warning message in read.spss(fileNameIn):\n",
      "“Duplicated levels in factor b18_codigo: Limache, Olmué”Warning message in read.spss(fileNameIn):\n",
      "“Undeclared level(s) 2 added in variable: c1”Warning message in read.spss(fileNameIn):\n",
      "“Undeclared level(s) 1, 2, 3, 4, 5, 6, 7, 8, 9, 10, 11, 12, 13, 14, 15, 16, 17, 18, 19, 20, 24 added in variable: c2_1_1”Warning message in read.spss(fileNameIn):\n",
      "“Undeclared level(s) 1, 2, 3, 4, 5, 6, 7 added in variable: c2_1_2”Warning message in read.spss(fileNameIn):\n",
      "“Undeclared level(s) 1, 2, 3, 4, 5, 6, 7, 8, 9, 10, 11, 12, 13, 14, 15, 16, 17, 18, 19, 20, 21, 22, 23, 24, 25, 26, 27, 28, 29, 30, 31, 32, 33, 34, 35, 36, 37, 38, 39, 40, 41, 42, 43, 44, 45, 46, 47, 48, 49, 50, 51, 52, 53, 54, 55, 56, 57, 58, 59, 60, 61, 62, 63, 64, 65, 66, 68, 69, 70, 71, 72, 74, 75, 76, 77, 78, 80, 81, 82, 83, 84, 85, 89, 90, 91, 95, 96, 97, 98, 99, 100, 105, 108, 112, 113, 119, 120, 126, 133 added in variable: c2_1_3”Warning message in read.spss(fileNameIn):\n",
      "“Undeclared level(s) 1, 2, 3, 4, 5, 6, 7, 8, 9, 10, 11, 12, 13, 14, 15, 16, 24 added in variable: c2_2_1”Warning message in read.spss(fileNameIn):\n",
      "“Undeclared level(s) 1, 2, 3, 4, 5, 6, 7 added in variable: c2_2_2”Warning message in read.spss(fileNameIn):\n",
      "“Undeclared level(s) 1, 2, 3, 4, 5, 6, 7, 8, 9, 10, 11, 12, 13, 14, 15, 16, 17, 18, 19, 20, 21, 22, 23, 24, 25, 26, 27, 28, 29, 30, 32, 35, 36, 40, 41, 42, 44, 45, 48, 49, 60 added in variable: c2_2_3”Warning message in read.spss(fileNameIn):\n",
      "“Undeclared level(s) 1, 2, 3, 4, 5, 6, 7, 8, 9, 10, 11, 12, 13, 14, 15, 16, 17, 18, 19, 20, 24 added in variable: c3_1”Warning message in read.spss(fileNameIn):\n",
      "“Undeclared level(s) 1, 2, 3, 4, 5, 6, 7 added in variable: c3_2”Warning message in read.spss(fileNameIn):\n",
      "“Undeclared level(s) 1, 2, 3, 4, 5, 6, 7, 8, 9, 10, 11, 12, 13, 14, 15, 16, 17, 18, 19, 20, 21, 22, 23, 24, 25, 26, 27, 28, 29, 30, 31, 32, 33, 34, 35, 36, 37, 38, 39, 40, 41, 42, 43, 44, 45, 46, 47, 48, 49, 50, 51, 52, 53, 54, 55, 56, 57, 58, 60, 61, 62, 63, 64, 65, 66, 68, 69, 70, 71, 72, 75, 76, 77, 78, 80, 81, 82, 84, 90, 91, 95, 96, 98, 100, 102, 105, 108, 112, 113, 119, 120, 126, 133 added in variable: c3_3”Warning message in read.spss(fileNameIn):\n",
      "“Undeclared level(s) 1, 2, 3, 4, 5, 6, 7, 8, 9, 10, 11, 12, 13, 14, 15, 16, 17, 18, 19, 20, 21, 22, 24, 25, 27, 28, 29, 30, 32, 33, 35, 36, 37, 39, 40, 41, 42, 45, 47, 48, 54, 63, 72, 75 added in variable: c6”Warning message in read.spss(fileNameIn):\n",
      "“Undeclared level(s) 1, 2, 3, 4, 5, 6, 7, 8, 9, 10, 11, 12, 13, 14, 15, 16, 17, 18, 19, 20, 21, 22, 23, 24, 25, 26, 27, 28, 29, 30, 31, 32, 33, 34, 35, 36, 37, 38, 39, 40, 41, 42, 43, 44, 45, 46, 47, 48, 49, 50, 51, 52, 53, 54, 55, 56, 57, 58, 60, 63, 65, 66, 68, 69, 70, 72, 75, 76, 78, 80, 81, 84, 90, 91, 96, 98, 100, 105, 126 added in variable: c8”Warning message in read.spss(fileNameIn):\n",
      "“Duplicated levels in factor c9: Tuvo horario variable, flexible o similar”Warning message in read.spss(fileNameIn):\n",
      "“Undeclared level(s) 3 added in variable: e3_3”Warning message in read.spss(fileNameIn):\n",
      "“Undeclared level(s) 1, 2, 3, 4, 5, 6, 7, 8, 9, 10, 11, 12, 13, 14, 15, 16, 17, 18, 19, 20, 21, 22, 23, 24, 25, 26, 27, 28, 29, 30, 31 added in variable: e5_dia”Warning message in read.spss(fileNameIn):\n",
      "“Undeclared level(s) 6 added in variable: e5_sem”Warning message in read.spss(fileNameIn):\n",
      "“Undeclared level(s) 1939, 1940, 1941, 1942, 1943, 1944, 1945, 1946, 1947, 1948, 1949, 1950, 1951, 1952, 1953, 1954, 1955, 1956, 1957, 1958, 1959, 1960, 1961, 1962, 1963, 1964, 1965, 1966, 1967, 1968, 1969, 1970, 1971, 1972, 1973, 1974, 1975, 1976, 1977, 1978, 1979, 1980, 1981, 1982, 1983, 1984, 1985, 1986, 1987, 1988, 1989, 1990, 1991, 1992, 1993, 1994, 1995, 1996, 1997, 1998, 1999, 2000, 2001, 2002, 2003, 2004, 2005, 2006, 2007, 2008, 2009, 2010, 2011, 2012, 2013, 2014, 2015, 2016, 2017, 2018 added in variable: e14_ano”Warning message in read.spss(fileNameIn):\n",
      "“Undeclared level(s) 1, 2, 3, 4, 5, 6, 7, 8, 9, 10, 11 added in variable: e15_meses”Warning message in read.spss(fileNameIn):\n",
      "“Undeclared level(s) 1, 2, 3, 4, 5, 6, 7, 8, 9, 10, 11, 12, 13, 14, 15, 16, 17, 18, 19, 20, 21, 22, 23, 24, 25, 26, 27, 28, 29, 30, 31, 32, 33, 34, 35, 36, 37, 38, 39, 40, 41, 42, 43, 44, 45, 46, 47, 48, 49, 50, 51, 52, 53, 54, 55, 56, 58, 59, 60, 64, 66, 67, 68, 69, 70, 73 added in variable: e15_anos”Warning message in read.spss(fileNameIn):\n",
      "“Undeclared level(s) 1, 2, 3, 4, 5, 6, 7, 8, 9, 10, 11, 12, 13, 14, 15, 16, 17, 18, 19, 20, 21, 22, 23, 24, 25, 26, 27, 28, 29, 30, 31, 32, 33, 34, 35, 36, 37, 38, 39, 40, 41, 42, 43, 44, 45, 46, 47, 48, 49, 50, 51, 52, 53, 54, 55, 56, 57, 58, 59, 60, 61, 62, 63, 64, 65, 66, 68, 69, 70, 71, 72, 74, 75, 76, 77, 78, 80, 81, 82, 83, 84, 85, 89, 90, 91, 95, 96, 97, 98, 99, 100, 105, 108, 112, 113, 119, 120, 126, 133 added in variable: habituales”Warning message in read.spss(fileNameIn):\n",
      "“Undeclared level(s) 0, 1, 2, 3, 4, 5, 6, 7, 8, 9, 10, 11, 12, 13, 14, 15, 16, 17, 18, 19, 20, 21, 22, 23, 24, 25, 26, 27, 28, 29, 30, 31, 32, 33, 34, 35, 36, 37, 38, 39, 40, 41, 42, 43, 44, 45, 46, 47, 48, 49, 50, 51, 52, 53, 54, 55, 56, 57, 58, 59, 60, 61, 62, 63, 64, 65, 66, 68, 69, 70, 71, 72, 73, 74, 75, 76, 77, 78, 79, 80, 81, 82, 83, 84, 86, 87, 88, 89, 90, 91, 92, 93, 94, 95, 96, 97, 98, 99, 100, 104, 105, 108, 110, 112, 113, 114, 117, 119, 120, 123, 126 added in variable: efectivas”Warning message in read.spss(fileNameIn):\n",
      "“Undeclared level(s) 0 added in variable: sector”Warning message in read.spss(fileNameIn):\n",
      "“Undeclared level(s) 0 added in variable: ocup_form”"
     ]
    }
   ],
   "source": [
    "library(foreign)\n",
    "fileNameIn = \"ENE_2018_01_DEF.sav\"\n",
    "fileNameout = \"ENE_2018_01_DEF.csv\"\n",
    "write.table (read.spss (fileNameIn), file = fileNameout, quote = FALSE, sep = \",\")"
   ]
  },
  {
   "cell_type": "code",
   "execution_count": null,
   "metadata": {},
   "outputs": [],
   "source": []
  }
 ],
 "metadata": {
  "kernelspec": {
   "display_name": "R",
   "language": "R",
   "name": "ir"
  },
  "language_info": {
   "codemirror_mode": "r",
   "file_extension": ".r",
   "mimetype": "text/x-r-source",
   "name": "R",
   "pygments_lexer": "r",
   "version": "3.4.2"
  }
 },
 "nbformat": 4,
 "nbformat_minor": 2
}
