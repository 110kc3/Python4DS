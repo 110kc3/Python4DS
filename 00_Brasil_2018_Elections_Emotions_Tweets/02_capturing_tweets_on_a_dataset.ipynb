{
 "cells": [
  {
   "cell_type": "markdown",
   "metadata": {},
   "source": [
    "# Capturing Tweets on a dataset"
   ]
  },
  {
   "cell_type": "code",
   "execution_count": 1,
   "metadata": {
    "ExecuteTime": {
     "end_time": "2019-04-08T19:34:57.331548Z",
     "start_time": "2019-04-08T19:34:56.513325Z"
    }
   },
   "outputs": [],
   "source": [
    "import pandas as pd\n",
    "import numpy as np\n",
    "from datetime import datetime, date, time, timedelta\n",
    "from collections import Counter\n",
    "import csv\n",
    "import pickle\n",
    "from sklearn.externals import joblib"
   ]
  },
  {
   "cell_type": "markdown",
   "metadata": {},
   "source": [
    "## Main Functions"
   ]
  },
  {
   "cell_type": "code",
   "execution_count": 2,
   "metadata": {
    "ExecuteTime": {
     "end_time": "2019-04-08T19:35:00.685089Z",
     "start_time": "2019-04-08T19:35:00.679699Z"
    }
   },
   "outputs": [],
   "source": [
    "def get_info(tweets):\n",
    "    item = tweets[0].user   \n",
    "    print(\"\\nGetting data for  \" + item.screen_name)\n",
    "    print(\"Description:      \" + item.description)\n",
    "    print(\"\\nName:             \" + item.name)\n",
    "    print(\"Screen_name:      \" + item.screen_name)\n",
    "    print(\"Location:         \" + item.location)\n",
    "    print(\"Tweets_count:     {0:,}  \".format(item.statuses_count))\n",
    "    print(\"Friends_count:    {0:,}  \".format(item.friends_count))\n",
    "    print(\"Followers_count:  {0:,}  \".format(item.followers_count))\n",
    "    print(\"Favourites_count: {0:,}  \".format(item.favourites_count))    \n",
    "    tweet_stat(item)"
   ]
  },
  {
   "cell_type": "code",
   "execution_count": 3,
   "metadata": {
    "ExecuteTime": {
     "end_time": "2019-04-08T19:35:01.426513Z",
     "start_time": "2019-04-08T19:35:01.421931Z"
    }
   },
   "outputs": [],
   "source": [
    "def tweet_stat(item):\n",
    "    tweets_cnt = item.statuses_count\n",
    "    account_created_date = item.created_at\n",
    "    delta = datetime.utcnow() - account_created_date\n",
    "    account_age_days = delta.days\n",
    "    print(\"\\nAccount created: \" + str(account_created_date))\n",
    "    print(\"Account age (in days): {0:,}  \".format(account_age_days))\n",
    "    if account_age_days > 0:\n",
    "        print(\"Average tweets per day: \" + \"%.2f\"%(float(tweets_cnt)/float(account_age_days)))"
   ]
  },
  {
   "cell_type": "code",
   "execution_count": 4,
   "metadata": {
    "ExecuteTime": {
     "end_time": "2019-04-08T19:35:03.511396Z",
     "start_time": "2019-04-08T19:35:03.503664Z"
    }
   },
   "outputs": [],
   "source": [
    "def get_users_hashtags(tweets):\n",
    "    hashtags = []\n",
    "    mentions = []\n",
    "    tweet_count = 0\n",
    "    end_date = datetime.utcnow() - timedelta(days=460)\n",
    "    for status in tweets:\n",
    "        tweet_count += 1\n",
    "        if hasattr(status, \"entities\"):\n",
    "            entities = status.entities\n",
    "            if \"hashtags\" in entities:\n",
    "                for ent in entities[\"hashtags\"]:\n",
    "                    if ent is not None:\n",
    "                        if \"text\" in ent:\n",
    "                            hashtag = ent[\"text\"]\n",
    "                            if hashtag is not None:\n",
    "                                hashtags.append(hashtag)\n",
    "            if \"user_mentions\" in entities:\n",
    "                for ent in entities[\"user_mentions\"]:\n",
    "                    if ent is not None:\n",
    "                        if \"screen_name\" in ent:\n",
    "                            name = ent[\"screen_name\"]\n",
    "                            if name is not None:\n",
    "                                mentions.append(name)\n",
    "        if status.created_at < end_date:\n",
    "            break\n",
    "        \n",
    "    print(\"\\nMost mentioned Twitter users:\")\n",
    "    for item, count in Counter(mentions).most_common(10):\n",
    "        print(item + \"\\t\" + str(count))\n",
    "    print(\"\\nMost used hashtags:\")\n",
    "    for item, count in Counter(hashtags).most_common(10):\n",
    "        print(item + \"\\t\" + str(count))\n",
    "    print (\"\\nAll done. Processed \" + str(tweet_count) + \" tweets.\")\n",
    "    \n",
    "    return mentions, hashtags"
   ]
  },
  {
   "cell_type": "code",
   "execution_count": 5,
   "metadata": {
    "ExecuteTime": {
     "end_time": "2019-04-08T19:35:06.072559Z",
     "start_time": "2019-04-08T19:35:06.068133Z"
    }
   },
   "outputs": [],
   "source": [
    "def save_csv(tweets, screen_name):\n",
    "    tweets_out = [[tweet.created_at, tweet.retweet_count, tweet.favorite_count, tweet.full_text] for tweet in tweets]\n",
    "    with open('%s_tweets.csv' % screen_name, 'w') as f:\n",
    "        writer = csv.writer(f)\n",
    "        writer.writerow([\"created_at\", \"retweets\", \"favorites\", \"text\"])\n",
    "        writer.writerows(tweets_out)\n",
    "    print(\"Archive saved: \"+screen_name+\"_tweets.csv\")"
   ]
  },
  {
   "cell_type": "markdown",
   "metadata": {},
   "source": [
    "---"
   ]
  },
  {
   "cell_type": "markdown",
   "metadata": {},
   "source": [
    "## Creating and Saving Datasets"
   ]
  },
  {
   "cell_type": "code",
   "execution_count": 105,
   "metadata": {
    "ExecuteTime": {
     "end_time": "2019-03-31T21:43:04.061857Z",
     "start_time": "2019-03-31T21:43:04.058932Z"
    }
   },
   "outputs": [],
   "source": [
    "screen_name = 'jairbolsonaro'"
   ]
  },
  {
   "cell_type": "code",
   "execution_count": 106,
   "metadata": {
    "ExecuteTime": {
     "end_time": "2019-03-31T21:43:11.632695Z",
     "start_time": "2019-03-31T21:43:09.129784Z"
    }
   },
   "outputs": [],
   "source": [
    "# Load full raw tweets from a pickle file\n",
    "tweets_jb = joblib.load('./raw_data/'+screen_name+'_raw_tweets.pkl')"
   ]
  },
  {
   "cell_type": "code",
   "execution_count": 137,
   "metadata": {
    "ExecuteTime": {
     "end_time": "2019-04-05T19:02:59.032126Z",
     "start_time": "2019-04-05T19:02:59.027520Z"
    },
    "scrolled": true
   },
   "outputs": [
    {
     "data": {
      "text/plain": [
       "Status(_json={'created_at': 'Sun Mar 31 18:24:50 +0000 2019', 'id': 1112420504407863297, 'id_str': '1112420504407863297', 'full_text': 'Reconhecendo os vínculos históricos de Jerusalém com a identidade judaica e também que a cidade é o coração político do Estado de Israel, anunciei hoje que o Brasil abrirá lá um escritório brasileiro para promoção do comércio, investimentos e intercâmbio em inovação e tecnologia. https://t.co/RfMKEl9XtB', 'truncated': False, 'display_text_range': [0, 280], 'entities': {'hashtags': [], 'symbols': [], 'user_mentions': [], 'urls': [], 'media': [{'id': 1112420499173359617, 'id_str': '1112420499173359617', 'indices': [281, 304], 'media_url': 'http://pbs.twimg.com/media/D3AcjNYXQAEw4FT.jpg', 'media_url_https': 'https://pbs.twimg.com/media/D3AcjNYXQAEw4FT.jpg', 'url': 'https://t.co/RfMKEl9XtB', 'display_url': 'pic.twitter.com/RfMKEl9XtB', 'expanded_url': 'https://twitter.com/jairbolsonaro/status/1112420504407863297/photo/1', 'type': 'photo', 'sizes': {'thumb': {'w': 150, 'h': 150, 'resize': 'crop'}, 'large': {'w': 1280, 'h': 853, 'resize': 'fit'}, 'small': {'w': 680, 'h': 453, 'resize': 'fit'}, 'medium': {'w': 1200, 'h': 800, 'resize': 'fit'}}}]}, 'extended_entities': {'media': [{'id': 1112420499173359617, 'id_str': '1112420499173359617', 'indices': [281, 304], 'media_url': 'http://pbs.twimg.com/media/D3AcjNYXQAEw4FT.jpg', 'media_url_https': 'https://pbs.twimg.com/media/D3AcjNYXQAEw4FT.jpg', 'url': 'https://t.co/RfMKEl9XtB', 'display_url': 'pic.twitter.com/RfMKEl9XtB', 'expanded_url': 'https://twitter.com/jairbolsonaro/status/1112420504407863297/photo/1', 'type': 'photo', 'sizes': {'thumb': {'w': 150, 'h': 150, 'resize': 'crop'}, 'large': {'w': 1280, 'h': 853, 'resize': 'fit'}, 'small': {'w': 680, 'h': 453, 'resize': 'fit'}, 'medium': {'w': 1200, 'h': 800, 'resize': 'fit'}}}]}, 'source': '<a href=\"http://twitter.com/download/iphone\" rel=\"nofollow\">Twitter for iPhone</a>', 'in_reply_to_status_id': None, 'in_reply_to_status_id_str': None, 'in_reply_to_user_id': None, 'in_reply_to_user_id_str': None, 'in_reply_to_screen_name': None, 'user': {'id': 128372940, 'id_str': '128372940', 'name': 'Jair M. Bolsonaro', 'screen_name': 'jairbolsonaro', 'location': 'Brasília, Brasil', 'description': 'Capitão do Exército Brasileiro, eleito 38° Presidente da República Federativa do Brasil. 🇧🇷', 'url': 'https://t.co/bqpNS6l0al', 'entities': {'url': {'urls': [{'url': 'https://t.co/bqpNS6l0al', 'expanded_url': 'http://www.bolsonaro.com.br', 'display_url': 'bolsonaro.com.br', 'indices': [0, 23]}]}, 'description': {'urls': []}}, 'protected': False, 'followers_count': 3872290, 'friends_count': 330, 'listed_count': 4119, 'created_at': 'Wed Mar 31 23:13:44 +0000 2010', 'favourites_count': 1804, 'utc_offset': None, 'time_zone': None, 'geo_enabled': True, 'verified': True, 'statuses_count': 6424, 'lang': 'pt', 'contributors_enabled': False, 'is_translator': False, 'is_translation_enabled': False, 'profile_background_color': '175C17', 'profile_background_image_url': 'http://abs.twimg.com/images/themes/theme1/bg.png', 'profile_background_image_url_https': 'https://abs.twimg.com/images/themes/theme1/bg.png', 'profile_background_tile': False, 'profile_image_url': 'http://pbs.twimg.com/profile_images/1057631480459886595/9VPdGJJz_normal.jpg', 'profile_image_url_https': 'https://pbs.twimg.com/profile_images/1057631480459886595/9VPdGJJz_normal.jpg', 'profile_banner_url': 'https://pbs.twimg.com/profile_banners/128372940/1540929521', 'profile_link_color': '0084B4', 'profile_sidebar_border_color': 'FFFFFF', 'profile_sidebar_fill_color': 'A4E37F', 'profile_text_color': '1414FF', 'profile_use_background_image': True, 'has_extended_profile': True, 'default_profile': False, 'default_profile_image': False, 'following': True, 'follow_request_sent': False, 'notifications': False, 'translator_type': 'none'}, 'geo': None, 'coordinates': None, 'place': None, 'contributors': None, 'is_quote_status': False, 'retweet_count': 2985, 'favorite_count': 17307, 'favorited': False, 'retweeted': False, 'possibly_sensitive': False, 'lang': 'pt'}, created_at=datetime.datetime(2019, 3, 31, 18, 24, 50), id=1112420504407863297, id_str='1112420504407863297', full_text='Reconhecendo os vínculos históricos de Jerusalém com a identidade judaica e também que a cidade é o coração político do Estado de Israel, anunciei hoje que o Brasil abrirá lá um escritório brasileiro para promoção do comércio, investimentos e intercâmbio em inovação e tecnologia. https://t.co/RfMKEl9XtB', truncated=False, display_text_range=[0, 280], entities={'hashtags': [], 'symbols': [], 'user_mentions': [], 'urls': [], 'media': [{'id': 1112420499173359617, 'id_str': '1112420499173359617', 'indices': [281, 304], 'media_url': 'http://pbs.twimg.com/media/D3AcjNYXQAEw4FT.jpg', 'media_url_https': 'https://pbs.twimg.com/media/D3AcjNYXQAEw4FT.jpg', 'url': 'https://t.co/RfMKEl9XtB', 'display_url': 'pic.twitter.com/RfMKEl9XtB', 'expanded_url': 'https://twitter.com/jairbolsonaro/status/1112420504407863297/photo/1', 'type': 'photo', 'sizes': {'thumb': {'w': 150, 'h': 150, 'resize': 'crop'}, 'large': {'w': 1280, 'h': 853, 'resize': 'fit'}, 'small': {'w': 680, 'h': 453, 'resize': 'fit'}, 'medium': {'w': 1200, 'h': 800, 'resize': 'fit'}}}]}, extended_entities={'media': [{'id': 1112420499173359617, 'id_str': '1112420499173359617', 'indices': [281, 304], 'media_url': 'http://pbs.twimg.com/media/D3AcjNYXQAEw4FT.jpg', 'media_url_https': 'https://pbs.twimg.com/media/D3AcjNYXQAEw4FT.jpg', 'url': 'https://t.co/RfMKEl9XtB', 'display_url': 'pic.twitter.com/RfMKEl9XtB', 'expanded_url': 'https://twitter.com/jairbolsonaro/status/1112420504407863297/photo/1', 'type': 'photo', 'sizes': {'thumb': {'w': 150, 'h': 150, 'resize': 'crop'}, 'large': {'w': 1280, 'h': 853, 'resize': 'fit'}, 'small': {'w': 680, 'h': 453, 'resize': 'fit'}, 'medium': {'w': 1200, 'h': 800, 'resize': 'fit'}}}]}, source='Twitter for iPhone', source_url='http://twitter.com/download/iphone', in_reply_to_status_id=None, in_reply_to_status_id_str=None, in_reply_to_user_id=None, in_reply_to_user_id_str=None, in_reply_to_screen_name=None, author=User(_json={'id': 128372940, 'id_str': '128372940', 'name': 'Jair M. Bolsonaro', 'screen_name': 'jairbolsonaro', 'location': 'Brasília, Brasil', 'description': 'Capitão do Exército Brasileiro, eleito 38° Presidente da República Federativa do Brasil. 🇧🇷', 'url': 'https://t.co/bqpNS6l0al', 'entities': {'url': {'urls': [{'url': 'https://t.co/bqpNS6l0al', 'expanded_url': 'http://www.bolsonaro.com.br', 'display_url': 'bolsonaro.com.br', 'indices': [0, 23]}]}, 'description': {'urls': []}}, 'protected': False, 'followers_count': 3872290, 'friends_count': 330, 'listed_count': 4119, 'created_at': 'Wed Mar 31 23:13:44 +0000 2010', 'favourites_count': 1804, 'utc_offset': None, 'time_zone': None, 'geo_enabled': True, 'verified': True, 'statuses_count': 6424, 'lang': 'pt', 'contributors_enabled': False, 'is_translator': False, 'is_translation_enabled': False, 'profile_background_color': '175C17', 'profile_background_image_url': 'http://abs.twimg.com/images/themes/theme1/bg.png', 'profile_background_image_url_https': 'https://abs.twimg.com/images/themes/theme1/bg.png', 'profile_background_tile': False, 'profile_image_url': 'http://pbs.twimg.com/profile_images/1057631480459886595/9VPdGJJz_normal.jpg', 'profile_image_url_https': 'https://pbs.twimg.com/profile_images/1057631480459886595/9VPdGJJz_normal.jpg', 'profile_banner_url': 'https://pbs.twimg.com/profile_banners/128372940/1540929521', 'profile_link_color': '0084B4', 'profile_sidebar_border_color': 'FFFFFF', 'profile_sidebar_fill_color': 'A4E37F', 'profile_text_color': '1414FF', 'profile_use_background_image': True, 'has_extended_profile': True, 'default_profile': False, 'default_profile_image': False, 'following': True, 'follow_request_sent': False, 'notifications': False, 'translator_type': 'none'}, id=128372940, id_str='128372940', name='Jair M. Bolsonaro', screen_name='jairbolsonaro', location='Brasília, Brasil', description='Capitão do Exército Brasileiro, eleito 38° Presidente da República Federativa do Brasil. 🇧🇷', url='https://t.co/bqpNS6l0al', entities={'url': {'urls': [{'url': 'https://t.co/bqpNS6l0al', 'expanded_url': 'http://www.bolsonaro.com.br', 'display_url': 'bolsonaro.com.br', 'indices': [0, 23]}]}, 'description': {'urls': []}}, protected=False, followers_count=3872290, friends_count=330, listed_count=4119, created_at=datetime.datetime(2010, 3, 31, 23, 13, 44), favourites_count=1804, utc_offset=None, time_zone=None, geo_enabled=True, verified=True, statuses_count=6424, lang='pt', contributors_enabled=False, is_translator=False, is_translation_enabled=False, profile_background_color='175C17', profile_background_image_url='http://abs.twimg.com/images/themes/theme1/bg.png', profile_background_image_url_https='https://abs.twimg.com/images/themes/theme1/bg.png', profile_background_tile=False, profile_image_url='http://pbs.twimg.com/profile_images/1057631480459886595/9VPdGJJz_normal.jpg', profile_image_url_https='https://pbs.twimg.com/profile_images/1057631480459886595/9VPdGJJz_normal.jpg', profile_banner_url='https://pbs.twimg.com/profile_banners/128372940/1540929521', profile_link_color='0084B4', profile_sidebar_border_color='FFFFFF', profile_sidebar_fill_color='A4E37F', profile_text_color='1414FF', profile_use_background_image=True, has_extended_profile=True, default_profile=False, default_profile_image=False, following=True, follow_request_sent=False, notifications=False, translator_type='none'), user=User(_json={'id': 128372940, 'id_str': '128372940', 'name': 'Jair M. Bolsonaro', 'screen_name': 'jairbolsonaro', 'location': 'Brasília, Brasil', 'description': 'Capitão do Exército Brasileiro, eleito 38° Presidente da República Federativa do Brasil. 🇧🇷', 'url': 'https://t.co/bqpNS6l0al', 'entities': {'url': {'urls': [{'url': 'https://t.co/bqpNS6l0al', 'expanded_url': 'http://www.bolsonaro.com.br', 'display_url': 'bolsonaro.com.br', 'indices': [0, 23]}]}, 'description': {'urls': []}}, 'protected': False, 'followers_count': 3872290, 'friends_count': 330, 'listed_count': 4119, 'created_at': 'Wed Mar 31 23:13:44 +0000 2010', 'favourites_count': 1804, 'utc_offset': None, 'time_zone': None, 'geo_enabled': True, 'verified': True, 'statuses_count': 6424, 'lang': 'pt', 'contributors_enabled': False, 'is_translator': False, 'is_translation_enabled': False, 'profile_background_color': '175C17', 'profile_background_image_url': 'http://abs.twimg.com/images/themes/theme1/bg.png', 'profile_background_image_url_https': 'https://abs.twimg.com/images/themes/theme1/bg.png', 'profile_background_tile': False, 'profile_image_url': 'http://pbs.twimg.com/profile_images/1057631480459886595/9VPdGJJz_normal.jpg', 'profile_image_url_https': 'https://pbs.twimg.com/profile_images/1057631480459886595/9VPdGJJz_normal.jpg', 'profile_banner_url': 'https://pbs.twimg.com/profile_banners/128372940/1540929521', 'profile_link_color': '0084B4', 'profile_sidebar_border_color': 'FFFFFF', 'profile_sidebar_fill_color': 'A4E37F', 'profile_text_color': '1414FF', 'profile_use_background_image': True, 'has_extended_profile': True, 'default_profile': False, 'default_profile_image': False, 'following': True, 'follow_request_sent': False, 'notifications': False, 'translator_type': 'none'}, id=128372940, id_str='128372940', name='Jair M. Bolsonaro', screen_name='jairbolsonaro', location='Brasília, Brasil', description='Capitão do Exército Brasileiro, eleito 38° Presidente da República Federativa do Brasil. 🇧🇷', url='https://t.co/bqpNS6l0al', entities={'url': {'urls': [{'url': 'https://t.co/bqpNS6l0al', 'expanded_url': 'http://www.bolsonaro.com.br', 'display_url': 'bolsonaro.com.br', 'indices': [0, 23]}]}, 'description': {'urls': []}}, protected=False, followers_count=3872290, friends_count=330, listed_count=4119, created_at=datetime.datetime(2010, 3, 31, 23, 13, 44), favourites_count=1804, utc_offset=None, time_zone=None, geo_enabled=True, verified=True, statuses_count=6424, lang='pt', contributors_enabled=False, is_translator=False, is_translation_enabled=False, profile_background_color='175C17', profile_background_image_url='http://abs.twimg.com/images/themes/theme1/bg.png', profile_background_image_url_https='https://abs.twimg.com/images/themes/theme1/bg.png', profile_background_tile=False, profile_image_url='http://pbs.twimg.com/profile_images/1057631480459886595/9VPdGJJz_normal.jpg', profile_image_url_https='https://pbs.twimg.com/profile_images/1057631480459886595/9VPdGJJz_normal.jpg', profile_banner_url='https://pbs.twimg.com/profile_banners/128372940/1540929521', profile_link_color='0084B4', profile_sidebar_border_color='FFFFFF', profile_sidebar_fill_color='A4E37F', profile_text_color='1414FF', profile_use_background_image=True, has_extended_profile=True, default_profile=False, default_profile_image=False, following=True, follow_request_sent=False, notifications=False, translator_type='none'), geo=None, coordinates=None, place=None, contributors=None, is_quote_status=False, retweet_count=2985, favorite_count=17307, favorited=False, retweeted=False, possibly_sensitive=False, lang='pt')"
      ]
     },
     "execution_count": 137,
     "metadata": {},
     "output_type": "execute_result"
    }
   ],
   "source": [
    "tweets_jb[0]"
   ]
  },
  {
   "cell_type": "code",
   "execution_count": 138,
   "metadata": {
    "ExecuteTime": {
     "end_time": "2019-04-05T19:03:43.292620Z",
     "start_time": "2019-04-05T19:03:43.287805Z"
    }
   },
   "outputs": [
    {
     "data": {
      "text/plain": [
       "datetime.datetime(2019, 3, 31, 18, 24, 50)"
      ]
     },
     "execution_count": 138,
     "metadata": {},
     "output_type": "execute_result"
    }
   ],
   "source": [
    "tweets_jb[0].created_at"
   ]
  },
  {
   "cell_type": "code",
   "execution_count": 136,
   "metadata": {
    "ExecuteTime": {
     "end_time": "2019-04-05T19:02:33.407199Z",
     "start_time": "2019-04-05T19:02:33.402448Z"
    }
   },
   "outputs": [
    {
     "data": {
      "text/plain": [
       "1112420504407863297"
      ]
     },
     "execution_count": 136,
     "metadata": {},
     "output_type": "execute_result"
    }
   ],
   "source": [
    "tweets_jb[0].id"
   ]
  },
  {
   "cell_type": "code",
   "execution_count": 139,
   "metadata": {
    "ExecuteTime": {
     "end_time": "2019-04-05T19:05:25.702358Z",
     "start_time": "2019-04-05T19:05:25.698263Z"
    }
   },
   "outputs": [
    {
     "data": {
      "text/plain": [
       "2985"
      ]
     },
     "execution_count": 139,
     "metadata": {},
     "output_type": "execute_result"
    }
   ],
   "source": [
    "tweets_jb[0].retweet_count"
   ]
  },
  {
   "cell_type": "code",
   "execution_count": 139,
   "metadata": {
    "ExecuteTime": {
     "end_time": "2019-04-05T19:05:25.702358Z",
     "start_time": "2019-04-05T19:05:25.698263Z"
    }
   },
   "outputs": [
    {
     "data": {
      "text/plain": [
       "2985"
      ]
     },
     "execution_count": 139,
     "metadata": {},
     "output_type": "execute_result"
    }
   ],
   "source": [
    "tweets_jb[0].favorite_count"
   ]
  },
  {
   "cell_type": "code",
   "execution_count": 141,
   "metadata": {
    "ExecuteTime": {
     "end_time": "2019-04-05T19:08:09.359345Z",
     "start_time": "2019-04-05T19:08:09.355228Z"
    }
   },
   "outputs": [
    {
     "data": {
      "text/plain": [
       "'jairbolsonaro'"
      ]
     },
     "execution_count": 141,
     "metadata": {},
     "output_type": "execute_result"
    }
   ],
   "source": [
    "tweets_jb[0].user.screen_name"
   ]
  },
  {
   "cell_type": "code",
   "execution_count": 142,
   "metadata": {
    "ExecuteTime": {
     "end_time": "2019-04-05T19:08:57.655713Z",
     "start_time": "2019-04-05T19:08:57.651632Z"
    }
   },
   "outputs": [
    {
     "data": {
      "text/plain": [
       "'Jair M. Bolsonaro'"
      ]
     },
     "execution_count": 142,
     "metadata": {},
     "output_type": "execute_result"
    }
   ],
   "source": [
    "tweets_jb[0].user.name"
   ]
  },
  {
   "cell_type": "code",
   "execution_count": 144,
   "metadata": {
    "ExecuteTime": {
     "end_time": "2019-04-05T19:10:24.856229Z",
     "start_time": "2019-04-05T19:10:24.852276Z"
    }
   },
   "outputs": [
    {
     "data": {
      "text/plain": [
       "3872290"
      ]
     },
     "execution_count": 144,
     "metadata": {},
     "output_type": "execute_result"
    }
   ],
   "source": [
    "tweets_jb[3000].user.followers_count"
   ]
  },
  {
   "cell_type": "code",
   "execution_count": null,
   "metadata": {},
   "outputs": [],
   "source": []
  },
  {
   "cell_type": "code",
   "execution_count": null,
   "metadata": {},
   "outputs": [],
   "source": []
  },
  {
   "cell_type": "code",
   "execution_count": 107,
   "metadata": {
    "ExecuteTime": {
     "end_time": "2019-03-31T21:43:51.342623Z",
     "start_time": "2019-03-31T21:43:51.333144Z"
    },
    "scrolled": true
   },
   "outputs": [
    {
     "name": "stdout",
     "output_type": "stream",
     "text": [
      "\n",
      "Getting data for  jairbolsonaro\n",
      "Description:      Capitão do Exército Brasileiro, eleito 38° Presidente da República Federativa do Brasil. 🇧🇷\n",
      "\n",
      "Name:             Jair M. Bolsonaro\n",
      "Screen_name:      jairbolsonaro\n",
      "Location:         Brasília, Brasil\n",
      "Tweets_count:     6,424  \n",
      "Friends_count:    330  \n",
      "Followers_count:  3,872,290  \n",
      "Favourites_count: 1,804  \n",
      "\n",
      "Account created: 2010-03-31 23:13:44\n",
      "Account age (in days): 3,286  \n",
      "Average tweets per day: 1.95\n",
      "\n",
      "Most mentioned Twitter users:\n",
      "CarlosBolsonaro\t122\n",
      "BolsonaroSP\t89\n",
      "jairbolsonaro\t69\n",
      "RenovaMidia\t22\n",
      "planalto\t20\n",
      "tarcisiogdf\t18\n",
      "odiodobem\t18\n",
      "BlogDoPim\t18\n",
      "FlavioBolsonaro\t16\n",
      "conexaopolitica\t15\n",
      "\n",
      "Most used hashtags:\n",
      "NasRuasComBolsonaro\t19\n",
      "BolsonaroNaBand\t5\n",
      "Brasil\t4\n",
      "PPI\t3\n",
      "cestou\t2\n",
      "Fakenews\t2\n",
      "BolsonaroPresidente17\t2\n",
      "PTnão\t2\n",
      "EuVotoBolsonaro\t2\n",
      "TodosComBolsonaro\t2\n",
      "\n",
      "All done. Processed 2732 tweets.\n"
     ]
    }
   ],
   "source": [
    "get_info(tweets_jb)\n",
    "mentions_jb, hashtags_jb = get_users_hashtags(tweets_jb)"
   ]
  },
  {
   "cell_type": "code",
   "execution_count": 108,
   "metadata": {
    "ExecuteTime": {
     "end_time": "2019-03-31T21:45:57.732035Z",
     "start_time": "2019-03-31T21:45:57.694827Z"
    }
   },
   "outputs": [
    {
     "name": "stdout",
     "output_type": "stream",
     "text": [
      "Archive saved: jairbolsonaro_tweets.csv\n"
     ]
    }
   ],
   "source": [
    "save_csv(tweets_jb)"
   ]
  },
  {
   "cell_type": "markdown",
   "metadata": {},
   "source": [
    "## Importing datasets with Pandas"
   ]
  },
  {
   "cell_type": "code",
   "execution_count": 10,
   "metadata": {
    "ExecuteTime": {
     "end_time": "2019-04-08T21:38:31.650194Z",
     "start_time": "2019-04-08T21:38:31.612034Z"
    }
   },
   "outputs": [
    {
     "data": {
      "text/html": [
       "<div>\n",
       "<style scoped>\n",
       "    .dataframe tbody tr th:only-of-type {\n",
       "        vertical-align: middle;\n",
       "    }\n",
       "\n",
       "    .dataframe tbody tr th {\n",
       "        vertical-align: top;\n",
       "    }\n",
       "\n",
       "    .dataframe thead th {\n",
       "        text-align: right;\n",
       "    }\n",
       "</style>\n",
       "<table border=\"1\" class=\"dataframe\">\n",
       "  <thead>\n",
       "    <tr style=\"text-align: right;\">\n",
       "      <th></th>\n",
       "      <th>created_at</th>\n",
       "      <th>retweets</th>\n",
       "      <th>favorites</th>\n",
       "      <th>text</th>\n",
       "    </tr>\n",
       "  </thead>\n",
       "  <tbody>\n",
       "    <tr>\n",
       "      <th>0</th>\n",
       "      <td>2019-03-31 18:24:50</td>\n",
       "      <td>2985</td>\n",
       "      <td>17307</td>\n",
       "      <td>Reconhecendo os vínculos históricos de Jerusal...</td>\n",
       "    </tr>\n",
       "    <tr>\n",
       "      <th>1</th>\n",
       "      <td>2019-03-31 12:19:57</td>\n",
       "      <td>6288</td>\n",
       "      <td>34952</td>\n",
       "      <td>Chegamos há pouco em Israel. Fomos recepcionad...</td>\n",
       "    </tr>\n",
       "    <tr>\n",
       "      <th>2</th>\n",
       "      <td>2019-03-31 10:22:14</td>\n",
       "      <td>4035</td>\n",
       "      <td>30343</td>\n",
       "      <td>Ao renovar as concessões de trechos rodoviário...</td>\n",
       "    </tr>\n",
       "    <tr>\n",
       "      <th>3</th>\n",
       "      <td>2019-03-31 10:19:02</td>\n",
       "      <td>6327</td>\n",
       "      <td>41684</td>\n",
       "      <td>Após revelação do @MInfraestrutura de pedidos ...</td>\n",
       "    </tr>\n",
       "    <tr>\n",
       "      <th>4</th>\n",
       "      <td>2019-03-30 20:25:30</td>\n",
       "      <td>5619</td>\n",
       "      <td>26156</td>\n",
       "      <td>- Ministro da Infraestrutura @tarcisiogdf (cap...</td>\n",
       "    </tr>\n",
       "  </tbody>\n",
       "</table>\n",
       "</div>"
      ],
      "text/plain": [
       "            created_at  retweets  favorites  \\\n",
       "0  2019-03-31 18:24:50      2985      17307   \n",
       "1  2019-03-31 12:19:57      6288      34952   \n",
       "2  2019-03-31 10:22:14      4035      30343   \n",
       "3  2019-03-31 10:19:02      6327      41684   \n",
       "4  2019-03-30 20:25:30      5619      26156   \n",
       "\n",
       "                                                text  \n",
       "0  Reconhecendo os vínculos históricos de Jerusal...  \n",
       "1  Chegamos há pouco em Israel. Fomos recepcionad...  \n",
       "2  Ao renovar as concessões de trechos rodoviário...  \n",
       "3  Após revelação do @MInfraestrutura de pedidos ...  \n",
       "4  - Ministro da Infraestrutura @tarcisiogdf (cap...  "
      ]
     },
     "execution_count": 10,
     "metadata": {},
     "output_type": "execute_result"
    }
   ],
   "source": [
    "jb_tws = pd.read_csv('jairbolsonaro_tweets.csv')\n",
    "jb_tws.head()"
   ]
  },
  {
   "cell_type": "code",
   "execution_count": 11,
   "metadata": {
    "ExecuteTime": {
     "end_time": "2019-04-08T21:38:32.707364Z",
     "start_time": "2019-04-08T21:38:32.702710Z"
    }
   },
   "outputs": [
    {
     "data": {
      "text/plain": [
       "'Chegamos há pouco em Israel. Fomos recepcionados pelo Primeiro-Ministro @netanyahu e pudemos proferir palavras à esta nação amiga e o intuito de nossa viagem. Shalom! 🇧🇷🤝🇮🇱 https://t.co/TyWd5pKs0S'"
      ]
     },
     "execution_count": 11,
     "metadata": {},
     "output_type": "execute_result"
    }
   ],
   "source": [
    "# Verifing a single tweet text\n",
    "jb_tws.text[1]"
   ]
  },
  {
   "cell_type": "code",
   "execution_count": 12,
   "metadata": {
    "ExecuteTime": {
     "end_time": "2019-04-08T21:38:34.102490Z",
     "start_time": "2019-04-08T21:38:34.098345Z"
    }
   },
   "outputs": [
    {
     "data": {
      "text/plain": [
       "'2017-10-13 01:11:45'"
      ]
     },
     "execution_count": 12,
     "metadata": {},
     "output_type": "execute_result"
    }
   ],
   "source": [
    "jb_tws.created_at.min()"
   ]
  },
  {
   "cell_type": "markdown",
   "metadata": {},
   "source": [
    "---"
   ]
  },
  {
   "cell_type": "code",
   "execution_count": 112,
   "metadata": {
    "ExecuteTime": {
     "end_time": "2019-03-31T21:50:48.841734Z",
     "start_time": "2019-03-31T21:50:48.839137Z"
    }
   },
   "outputs": [],
   "source": [
    "screen_name = 'CarlosBolsonaro'"
   ]
  },
  {
   "cell_type": "code",
   "execution_count": 113,
   "metadata": {
    "ExecuteTime": {
     "end_time": "2019-03-31T21:50:54.619784Z",
     "start_time": "2019-03-31T21:50:52.061278Z"
    }
   },
   "outputs": [],
   "source": [
    "# Load full raw tweets from a pickle file\n",
    "tweets_cb = joblib.load('./raw_data/'+screen_name+'_raw_tweets.pkl')"
   ]
  },
  {
   "cell_type": "code",
   "execution_count": 114,
   "metadata": {
    "ExecuteTime": {
     "end_time": "2019-03-31T21:50:58.064352Z",
     "start_time": "2019-03-31T21:50:58.054729Z"
    }
   },
   "outputs": [
    {
     "name": "stdout",
     "output_type": "stream",
     "text": [
      "\n",
      "Getting data for  CarlosBolsonaro\n",
      "Description:      Eleito aos 17 anos de idade, exerce o quinto mandato de vereador do Rio de Janeiro e é filho do Presidente @JairBolsonaro.\n",
      "\n",
      "Name:             Carlos Bolsonaro\n",
      "Screen_name:      CarlosBolsonaro\n",
      "Location:         Rio de Janeiro-RJ\n",
      "Tweets_count:     11,865  \n",
      "Friends_count:    430  \n",
      "Followers_count:  1,038,807  \n",
      "Favourites_count: 2,511  \n",
      "\n",
      "Account created: 2009-08-25 14:53:27\n",
      "Account age (in days): 3,505  \n",
      "Average tweets per day: 3.39\n",
      "\n",
      "Most mentioned Twitter users:\n",
      "geraldoalckmin\t169\n",
      "jairbolsonaro\t141\n",
      "BolsonaroSP\t56\n",
      "lsentoes\t46\n",
      "leandroruschel\t39\n",
      "filgmartin\t38\n",
      "conexaopolitica\t25\n",
      "Clauwild1\t25\n",
      "flaviomorgen\t24\n",
      "CarlosBolsonaro\t23\n",
      "\n",
      "Most used hashtags:\n",
      "fakenews\t5\n",
      "Brasil\t4\n",
      "NasRuasComBolsonaro\t4\n",
      "EstouComBolsonaro\t4\n",
      "BolsonaroNaBand\t3\n",
      "Bolsonaro2018\t3\n",
      "FakeNews\t2\n",
      "EuVotoBolsonaro\t2\n",
      "BrasilComBolsonaro\t2\n",
      "BolsonaroPresidente17\t2\n",
      "\n",
      "All done. Processed 3150 tweets.\n"
     ]
    }
   ],
   "source": [
    "get_info(tweets_cb)\n",
    "mentions_cb, hashtags_cb = get_users_hashtags(tweets_cb)"
   ]
  },
  {
   "cell_type": "code",
   "execution_count": 97,
   "metadata": {
    "ExecuteTime": {
     "end_time": "2019-03-31T21:22:49.636453Z",
     "start_time": "2019-03-31T21:22:49.599594Z"
    }
   },
   "outputs": [
    {
     "name": "stdout",
     "output_type": "stream",
     "text": [
      "Archive saved: CarlosBolsonaro_tweets.csv\n"
     ]
    }
   ],
   "source": [
    "save_csv(tweets_cb)"
   ]
  },
  {
   "cell_type": "code",
   "execution_count": 116,
   "metadata": {
    "ExecuteTime": {
     "end_time": "2019-03-31T22:06:31.423747Z",
     "start_time": "2019-03-31T22:06:31.400548Z"
    }
   },
   "outputs": [],
   "source": [
    "cb_tws = pd.read_csv('CarlosBolsonaro_tweets.csv')"
   ]
  },
  {
   "cell_type": "code",
   "execution_count": 117,
   "metadata": {
    "ExecuteTime": {
     "end_time": "2019-03-31T22:06:34.826531Z",
     "start_time": "2019-03-31T22:06:34.816328Z"
    }
   },
   "outputs": [
    {
     "data": {
      "text/html": [
       "<div>\n",
       "<style scoped>\n",
       "    .dataframe tbody tr th:only-of-type {\n",
       "        vertical-align: middle;\n",
       "    }\n",
       "\n",
       "    .dataframe tbody tr th {\n",
       "        vertical-align: top;\n",
       "    }\n",
       "\n",
       "    .dataframe thead th {\n",
       "        text-align: right;\n",
       "    }\n",
       "</style>\n",
       "<table border=\"1\" class=\"dataframe\">\n",
       "  <thead>\n",
       "    <tr style=\"text-align: right;\">\n",
       "      <th></th>\n",
       "      <th>created_at</th>\n",
       "      <th>retweets</th>\n",
       "      <th>favorites</th>\n",
       "      <th>text</th>\n",
       "    </tr>\n",
       "  </thead>\n",
       "  <tbody>\n",
       "    <tr>\n",
       "      <th>0</th>\n",
       "      <td>2019-03-31 12:46:40</td>\n",
       "      <td>93</td>\n",
       "      <td>386</td>\n",
       "      <td>A população agradece! https://t.co/1m0PZ3GXvk</td>\n",
       "    </tr>\n",
       "    <tr>\n",
       "      <th>1</th>\n",
       "      <td>2019-03-30 14:29:31</td>\n",
       "      <td>1654</td>\n",
       "      <td>6375</td>\n",
       "      <td>Mais detalhes sobre a Nova Previdência, por @V...</td>\n",
       "    </tr>\n",
       "    <tr>\n",
       "      <th>2</th>\n",
       "      <td>2019-03-29 21:25:03</td>\n",
       "      <td>1657</td>\n",
       "      <td>9512</td>\n",
       "      <td>A VERDADE.... mais uma vez: https://t.co/IfFW3...</td>\n",
       "    </tr>\n",
       "    <tr>\n",
       "      <th>3</th>\n",
       "      <td>2019-03-29 20:25:19</td>\n",
       "      <td>49</td>\n",
       "      <td>456</td>\n",
       "      <td>@RitaCar15454727 @tesoureirosdoJB Quem pauta o...</td>\n",
       "    </tr>\n",
       "    <tr>\n",
       "      <th>4</th>\n",
       "      <td>2019-03-29 20:09:56</td>\n",
       "      <td>124</td>\n",
       "      <td>822</td>\n",
       "      <td>@tesoureirosdoJB Esfregue o que quiser onde qu...</td>\n",
       "    </tr>\n",
       "    <tr>\n",
       "      <th>5</th>\n",
       "      <td>2019-03-29 19:42:46</td>\n",
       "      <td>3740</td>\n",
       "      <td>19044</td>\n",
       "      <td>O novo modus operandi de grande parte da impre...</td>\n",
       "    </tr>\n",
       "    <tr>\n",
       "      <th>6</th>\n",
       "      <td>2019-03-29 10:42:47</td>\n",
       "      <td>2304</td>\n",
       "      <td>12705</td>\n",
       "      <td>Como titular da Comissão de Direitos Humanos d...</td>\n",
       "    </tr>\n",
       "    <tr>\n",
       "      <th>7</th>\n",
       "      <td>2019-03-28 23:20:01</td>\n",
       "      <td>1548</td>\n",
       "      <td>8679</td>\n",
       "      <td>Parabéns aos envolvidos. Ver o crescimento do ...</td>\n",
       "    </tr>\n",
       "    <tr>\n",
       "      <th>8</th>\n",
       "      <td>2019-03-28 16:52:11</td>\n",
       "      <td>1776</td>\n",
       "      <td>0</td>\n",
       "      <td>RT @JornalDaCidadeO: O establishment brasileir...</td>\n",
       "    </tr>\n",
       "    <tr>\n",
       "      <th>9</th>\n",
       "      <td>2019-03-28 11:05:34</td>\n",
       "      <td>2056</td>\n",
       "      <td>9471</td>\n",
       "      <td>Mais notícias boas! Ainda bem que a internet e...</td>\n",
       "    </tr>\n",
       "  </tbody>\n",
       "</table>\n",
       "</div>"
      ],
      "text/plain": [
       "            created_at  retweets  favorites  \\\n",
       "0  2019-03-31 12:46:40        93        386   \n",
       "1  2019-03-30 14:29:31      1654       6375   \n",
       "2  2019-03-29 21:25:03      1657       9512   \n",
       "3  2019-03-29 20:25:19        49        456   \n",
       "4  2019-03-29 20:09:56       124        822   \n",
       "5  2019-03-29 19:42:46      3740      19044   \n",
       "6  2019-03-29 10:42:47      2304      12705   \n",
       "7  2019-03-28 23:20:01      1548       8679   \n",
       "8  2019-03-28 16:52:11      1776          0   \n",
       "9  2019-03-28 11:05:34      2056       9471   \n",
       "\n",
       "                                                text  \n",
       "0      A população agradece! https://t.co/1m0PZ3GXvk  \n",
       "1  Mais detalhes sobre a Nova Previdência, por @V...  \n",
       "2  A VERDADE.... mais uma vez: https://t.co/IfFW3...  \n",
       "3  @RitaCar15454727 @tesoureirosdoJB Quem pauta o...  \n",
       "4  @tesoureirosdoJB Esfregue o que quiser onde qu...  \n",
       "5  O novo modus operandi de grande parte da impre...  \n",
       "6  Como titular da Comissão de Direitos Humanos d...  \n",
       "7  Parabéns aos envolvidos. Ver o crescimento do ...  \n",
       "8  RT @JornalDaCidadeO: O establishment brasileir...  \n",
       "9  Mais notícias boas! Ainda bem que a internet e...  "
      ]
     },
     "execution_count": 117,
     "metadata": {},
     "output_type": "execute_result"
    }
   ],
   "source": [
    "cb_tws.head(10)"
   ]
  },
  {
   "cell_type": "code",
   "execution_count": 118,
   "metadata": {
    "ExecuteTime": {
     "end_time": "2019-03-31T22:06:40.703859Z",
     "start_time": "2019-03-31T22:06:40.699220Z"
    }
   },
   "outputs": [
    {
     "data": {
      "text/plain": [
       "'RT @JornalDaCidadeO: O establishment brasileiro nunca quis saber de Bolsonaro e trama a sua derrubada de todas as formas.\\nhttps://t.co/mB3t…'"
      ]
     },
     "execution_count": 118,
     "metadata": {},
     "output_type": "execute_result"
    }
   ],
   "source": [
    "cb_tws.text[8]"
   ]
  },
  {
   "cell_type": "markdown",
   "metadata": {},
   "source": [
    "---"
   ]
  },
  {
   "cell_type": "code",
   "execution_count": 6,
   "metadata": {
    "ExecuteTime": {
     "end_time": "2019-04-08T19:35:28.039714Z",
     "start_time": "2019-04-08T19:35:28.036146Z"
    }
   },
   "outputs": [],
   "source": [
    "def create_csv (screen_name, prt = True):\n",
    "    # Load full raw tweets from a pickle file\n",
    "    tweets = joblib.load('./raw_data/'+screen_name+'_raw_tweets.pkl')\n",
    "    # print tweets main data\n",
    "    if prt:\n",
    "        get_info(tweets)\n",
    "        mentions_cb, hashtags_cb = get_users_hashtags(tweets)\n",
    "    #save csv_file\n",
    "    save_csv(tweets, screen_name)"
   ]
  },
  {
   "cell_type": "code",
   "execution_count": 125,
   "metadata": {
    "ExecuteTime": {
     "end_time": "2019-04-03T22:24:31.494074Z",
     "start_time": "2019-04-03T22:24:31.353669Z"
    }
   },
   "outputs": [
    {
     "name": "stdout",
     "output_type": "stream",
     "text": [
      "BlogDoPim_raw_tweets.pkl       LulaOficial_raw_tweets.pkl\r\n",
      "BolsonaroSP_raw_tweets.pkl     gleisi_raw_tweets.pkl\r\n",
      "CarlosBolsonaro_raw_tweets.pkl jairbolsonaro_raw_tweets.pkl\r\n",
      "FlavioBolsonaro_raw_tweets.pkl\r\n"
     ]
    }
   ],
   "source": [
    "!ls ./raw_data"
   ]
  },
  {
   "cell_type": "code",
   "execution_count": 126,
   "metadata": {
    "ExecuteTime": {
     "end_time": "2019-04-03T22:24:38.079292Z",
     "start_time": "2019-04-03T22:24:34.897634Z"
    }
   },
   "outputs": [
    {
     "name": "stdout",
     "output_type": "stream",
     "text": [
      "\n",
      "Getting data for  BolsonaroSP\n",
      "Description:      Deputado Federal mais votado da história do Brasil (1.843.735) em seu segundo mandato por SÃO PAULO, Policial Federal, Advogado e 3º filho de Jair Bolsonaro🇧🇷\n",
      "\n",
      "Name:             Eduardo Bolsonaro🇧🇷\n",
      "Screen_name:      BolsonaroSP\n",
      "Location:         São Paulo - SP\n",
      "Tweets_count:     12,695  \n",
      "Friends_count:    491  \n",
      "Followers_count:  1,365,419  \n",
      "Favourites_count: 13,636  \n",
      "\n",
      "Account created: 2009-09-16 15:25:13\n",
      "Account age (in days): 3,486  \n",
      "Average tweets per day: 3.64\n",
      "\n",
      "Most mentioned Twitter users:\n",
      "jairbolsonaro\t521\n",
      "BolsonaroSP\t411\n",
      "CarlosBolsonaro\t169\n",
      "RenovaMidia\t97\n",
      "filgmartin\t65\n",
      "FlavioBolsonaro\t57\n",
      "ernestofaraujo\t49\n",
      "carteiroreaca\t40\n",
      "NicolasMaduro\t40\n",
      "Rumbo_Libertad\t33\n",
      "\n",
      "Most used hashtags:\n",
      "Brasil\t15\n",
      "Venezuela\t13\n",
      "Repost\t6\n",
      "QuemMandouMatarBolsonaro\t6\n",
      "SemanaRENOVA\t5\n",
      "EUA\t5\n",
      "B17\t5\n",
      "SanatórioGeral\t5\n",
      "Israel\t4\n",
      "EuVotoBolsonaro\t4\n",
      "\n",
      "All done. Processed 3221 tweets.\n",
      "Archive saved: BolsonaroSP_tweets.csv\n"
     ]
    }
   ],
   "source": [
    "screen_name = 'BolsonaroSP'\n",
    "create_csv (screen_name)"
   ]
  },
  {
   "cell_type": "markdown",
   "metadata": {},
   "source": [
    "---"
   ]
  },
  {
   "cell_type": "code",
   "execution_count": 127,
   "metadata": {
    "ExecuteTime": {
     "end_time": "2019-04-03T22:27:53.658556Z",
     "start_time": "2019-04-03T22:27:50.635415Z"
    }
   },
   "outputs": [
    {
     "name": "stdout",
     "output_type": "stream",
     "text": [
      "\n",
      "Getting data for  FlavioBolsonaro\n",
      "Description:      Agradeço a Deus e aos 4.380.418 votos que me elegeram Senador pelo RJ #bolsonaro\n",
      "\n",
      "Name:             Flavio Bolsonaro\n",
      "Screen_name:      FlavioBolsonaro\n",
      "Location:         Rio de Janeiro\n",
      "Tweets_count:     11,324  \n",
      "Friends_count:    1,198  \n",
      "Followers_count:  1,177,592  \n",
      "Favourites_count: 1,739  \n",
      "\n",
      "Account created: 2009-05-14 18:28:03\n",
      "Account age (in days): 3,611  \n",
      "Average tweets per day: 3.14\n",
      "\n",
      "Most mentioned Twitter users:\n",
      "jairbolsonaro\t174\n",
      "BolsonaroSP\t35\n",
      "CarlosBolsonaro\t13\n",
      "conexaopolitica\t12\n",
      "leandroruschel\t11\n",
      "PMERJ\t10\n",
      "carlosjordy\t10\n",
      "tercalivre\t9\n",
      "NetflixBrasil\t9\n",
      "benebarbosa_mvb\t8\n",
      "\n",
      "Most used hashtags:\n",
      "FlavioBolsonaroSenador177\t54\n",
      "BolsonaroPresidente17\t37\n",
      "brasil\t25\n",
      "errejota\t24\n",
      "EstouComBolsonaro\t23\n",
      "rj\t22\n",
      "bolsonaro2018\t22\n",
      "riodejaneiro\t21\n",
      "bolsonaro\t21\n",
      "rio\t20\n",
      "\n",
      "All done. Processed 1117 tweets.\n",
      "Archive saved: FlavioBolsonaro_tweets.csv\n"
     ]
    }
   ],
   "source": [
    "screen_name = 'FlavioBolsonaro'\n",
    "create_csv (screen_name)"
   ]
  },
  {
   "cell_type": "markdown",
   "metadata": {},
   "source": [
    "---"
   ]
  },
  {
   "cell_type": "code",
   "execution_count": 128,
   "metadata": {
    "ExecuteTime": {
     "end_time": "2019-04-03T22:29:11.716068Z",
     "start_time": "2019-04-03T22:29:10.150201Z"
    }
   },
   "outputs": [
    {
     "name": "stdout",
     "output_type": "stream",
     "text": [
      "\n",
      "Getting data for  LulaOficial\n",
      "Description:      Ex-presidente da República do Brasil (2003-2010). Preso político desde 7 de abril de 2018.\n",
      "\n",
      "Name:             Lula\n",
      "Screen_name:      LulaOficial\n",
      "Location:         \n",
      "Tweets_count:     17,716  \n",
      "Friends_count:    530  \n",
      "Followers_count:  732,030  \n",
      "Favourites_count: 2,167  \n",
      "\n",
      "Account created: 2014-07-22 21:36:50\n",
      "Account age (in days): 1,716  \n",
      "Average tweets per day: 10.32\n",
      "\n",
      "Most mentioned Twitter users:\n",
      "Haddad_Fernando\t1043\n",
      "LulaOficial\t116\n",
      "gleisi\t70\n",
      "ManuelaDavila\t59\n",
      "ptbrasil\t48\n",
      "inst_lula\t46\n",
      "dilmabr\t30\n",
      "wadih_damous\t16\n",
      "GuilhermeBoulos\t14\n",
      "ONUBrasil\t14\n",
      "\n",
      "Most used hashtags:\n",
      "HaddadPresidente\t205\n",
      "LulaPresidente\t192\n",
      "LulaLivre\t129\n",
      "LulaLivreJá\t104\n",
      "Vote13\t94\n",
      "VotePorLulaVote13\t52\n",
      "HaddadÉ13\t50\n",
      "LulaÉHaddad\t48\n",
      "Haddad13\t47\n",
      "DebateNaGlobo\t43\n",
      "\n",
      "All done. Processed 3237 tweets.\n",
      "Archive saved: LulaOficial_tweets.csv\n"
     ]
    }
   ],
   "source": [
    "screen_name = 'LulaOficial'\n",
    "create_csv (screen_name)"
   ]
  },
  {
   "cell_type": "markdown",
   "metadata": {},
   "source": [
    "---"
   ]
  },
  {
   "cell_type": "code",
   "execution_count": 129,
   "metadata": {
    "ExecuteTime": {
     "end_time": "2019-04-03T22:29:11.716068Z",
     "start_time": "2019-04-03T22:29:10.150201Z"
    }
   },
   "outputs": [
    {
     "name": "stdout",
     "output_type": "stream",
     "text": [
      "\n",
      "Getting data for  gleisi\n",
      "Description:      Gleisi é deputada federal  pelo Estado do Paraná e Presidenta nacional do Partido dos Trabalhadores (PT).\n",
      "\n",
      "Name:             Gleisi Lula Hoffmann\n",
      "Screen_name:      gleisi\n",
      "Location:         Curitiba - Brasil\n",
      "Tweets_count:     11,759  \n",
      "Friends_count:    755  \n",
      "Followers_count:  547,595  \n",
      "Favourites_count: 807  \n",
      "\n",
      "Account created: 2009-04-14 14:55:57\n",
      "Account age (in days): 3,641  \n",
      "Average tweets per day: 3.23\n",
      "\n",
      "Most mentioned Twitter users:\n",
      "LulaOficial\t62\n",
      "ptbrasil\t61\n",
      "LulaPeloBrasil\t61\n",
      "brasil247\t39\n",
      "Haddad_Fernando\t26\n",
      "gleisi\t15\n",
      "ManuelaDavila\t11\n",
      "DeputadoFederal\t9\n",
      "requiaopmdb\t8\n",
      "PTnaCamara\t8\n",
      "\n",
      "Most used hashtags:\n",
      "LulaLivre\t243\n",
      "Haddad13\t46\n",
      "LulaPresidente\t42\n",
      "AoVivo\t38\n",
      "DebateComLula\t32\n",
      "PovoComLula\t28\n",
      "OBrasilFelizDeNovo\t26\n",
      "EleiçãoSemLulaÉFraude\t24\n",
      "AOVIVO\t22\n",
      "GleisiLula1313\t22\n",
      "\n",
      "All done. Processed 2118 tweets.\n",
      "Archive saved: gleisi_tweets.csv\n"
     ]
    }
   ],
   "source": [
    "screen_name = 'gleisi'\n",
    "create_csv (screen_name)"
   ]
  },
  {
   "cell_type": "markdown",
   "metadata": {},
   "source": [
    "---"
   ]
  },
  {
   "cell_type": "code",
   "execution_count": 130,
   "metadata": {
    "ExecuteTime": {
     "end_time": "2019-04-03T22:29:11.716068Z",
     "start_time": "2019-04-03T22:29:10.150201Z"
    }
   },
   "outputs": [
    {
     "name": "stdout",
     "output_type": "stream",
     "text": [
      "\n",
      "Getting data for  BlogDoPim\n",
      "Description:      Diretor de Jornalismo da Jovem Pan. Âncora e comentarista. Colunista da Crusoé. Maior influenciador político do Brasil no Twitter, segundo estudo da Stilingue.\n",
      "\n",
      "Name:             Felipe Moura Brasil\n",
      "Screen_name:      BlogDoPim\n",
      "Location:         Rio de Janeiro\n",
      "Tweets_count:     31,905  \n",
      "Friends_count:    3,401  \n",
      "Followers_count:  1,199,438  \n",
      "Favourites_count: 11,477  \n",
      "\n",
      "Account created: 2009-07-01 21:00:22\n",
      "Account age (in days): 3,563  \n",
      "Average tweets per day: 8.95\n",
      "\n",
      "Most mentioned Twitter users:\n",
      "BlogDoPim\t39\n",
      "JovemPanNews\t24\n",
      "xandresmoraes\t6\n",
      "andreazzaeditor\t4\n",
      "LuizFernandoM\t4\n",
      "anaerobica\t3\n",
      "RLSMO0780\t3\n",
      "JornalDaGazeta\t3\n",
      "Leandrogutts\t3\n",
      "carloscarvvalho\t3\n",
      "\n",
      "Most used hashtags:\n",
      "OsPingosNosIs\t441\n",
      "PartiuPraCima\t49\n",
      "ResumãoAntagonista\t41\n",
      "DebateBand\t22\n",
      "DebateRedeTV\t15\n",
      "Retrospectiva2018\t8\n",
      "Sextou\t6\n",
      "RenanNão\t6\n",
      "PTNão\t6\n",
      "RenanNever\t5\n",
      "\n",
      "All done. Processed 3219 tweets.\n",
      "Archive saved: BlogDoPim_tweets.csv\n"
     ]
    }
   ],
   "source": [
    "screen_name = 'BlogDoPim'\n",
    "create_csv (screen_name)"
   ]
  },
  {
   "cell_type": "markdown",
   "metadata": {},
   "source": [
    "---"
   ]
  },
  {
   "cell_type": "code",
   "execution_count": 7,
   "metadata": {
    "ExecuteTime": {
     "end_time": "2019-04-08T19:36:23.316638Z",
     "start_time": "2019-04-08T19:36:21.186655Z"
    }
   },
   "outputs": [
    {
     "name": "stdout",
     "output_type": "stream",
     "text": [
      "\n",
      "Getting data for  Haddad_Fernando\n",
      "Description:      Sou professor da USP e do Insper, ministro da Educação (2005-2012) e prefeito de São Paulo (2013-2016).\n",
      "\n",
      "Name:             Fernando Haddad\n",
      "Screen_name:      Haddad_Fernando\n",
      "Location:         São Paulo\n",
      "Tweets_count:     3,776  \n",
      "Friends_count:    305  \n",
      "Followers_count:  1,382,893  \n",
      "Favourites_count: 321  \n",
      "\n",
      "Account created: 2011-08-13 03:51:21\n",
      "Account age (in days): 2,795  \n",
      "Average tweets per day: 1.35\n",
      "\n",
      "Most mentioned Twitter users:\n",
      "LulaOficial\t202\n",
      "Haddad_Fernando\t44\n",
      "UOL\t27\n",
      "ManuelaDavila\t26\n",
      "MichelTemer\t22\n",
      "UOLNoticias\t18\n",
      "elpais_brasil\t17\n",
      "Estadao\t14\n",
      "jairbolsonaro\t14\n",
      "folha\t11\n",
      "\n",
      "Most used hashtags:\n",
      "HaddadPresidente\t119\n",
      "Vote13\t86\n",
      "Haddad13\t75\n",
      "LulaPresidente\t75\n",
      "VotePorLulaVote13\t53\n",
      "HaddadÉ13\t42\n",
      "DebateNaGlobo\t32\n",
      "DebateBand\t32\n",
      "AOVIVO\t28\n",
      "HaddadAoVivo\t24\n",
      "\n",
      "All done. Processed 2262 tweets.\n",
      "Archive saved: Haddad_Fernando_tweets.csv\n"
     ]
    }
   ],
   "source": [
    "screen_name = 'Haddad_Fernando'\n",
    "create_csv (screen_name)"
   ]
  },
  {
   "cell_type": "markdown",
   "metadata": {},
   "source": [
    "---"
   ]
  },
  {
   "cell_type": "code",
   "execution_count": null,
   "metadata": {
    "ExecuteTime": {
     "end_time": "2019-04-03T22:29:11.716068Z",
     "start_time": "2019-04-03T22:29:10.150201Z"
    }
   },
   "outputs": [],
   "source": [
    "screen_name = ''\n",
    "create_csv (screen_name)"
   ]
  }
 ],
 "metadata": {
  "kernelspec": {
   "display_name": "Python 3",
   "language": "python",
   "name": "python3"
  },
  "language_info": {
   "codemirror_mode": {
    "name": "ipython",
    "version": 3
   },
   "file_extension": ".py",
   "mimetype": "text/x-python",
   "name": "python",
   "nbconvert_exporter": "python",
   "pygments_lexer": "ipython3",
   "version": "3.6.6"
  },
  "toc": {
   "base_numbering": 1,
   "nav_menu": {},
   "number_sections": true,
   "sideBar": true,
   "skip_h1_title": true,
   "title_cell": "Table of Contents",
   "title_sidebar": "Contents",
   "toc_cell": false,
   "toc_position": {},
   "toc_section_display": true,
   "toc_window_display": true
  },
  "varInspector": {
   "cols": {
    "lenName": 16,
    "lenType": 16,
    "lenVar": 40
   },
   "kernels_config": {
    "python": {
     "delete_cmd_postfix": "",
     "delete_cmd_prefix": "del ",
     "library": "var_list.py",
     "varRefreshCmd": "print(var_dic_list())"
    },
    "r": {
     "delete_cmd_postfix": ") ",
     "delete_cmd_prefix": "rm(",
     "library": "var_list.r",
     "varRefreshCmd": "cat(var_dic_list()) "
    }
   },
   "types_to_exclude": [
    "module",
    "function",
    "builtin_function_or_method",
    "instance",
    "_Feature"
   ],
   "window_display": false
  }
 },
 "nbformat": 4,
 "nbformat_minor": 2
}
