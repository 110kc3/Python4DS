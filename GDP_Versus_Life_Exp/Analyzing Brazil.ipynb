{
 "cells": [
  {
   "cell_type": "markdown",
   "metadata": {},
   "source": [
    "# Analysing Brazil - Life Expectancy versus GDP"
   ]
  },
  {
   "cell_type": "markdown",
   "metadata": {},
   "source": [
    "Getting the data\n",
    "Initiallly, three datasets of the World Bank are considered. From there we took Brazil's data for all included years.\n",
    "- One dataset, available at http://data.worldbank.org/indicator/NY.GDP.MKTP.CD, lists the GDP of the world's countries in current US dollars, for various years.\n",
    "- The other dataset, available at http://data.worldbank.org/indicator/SP.DYN.LE00.IN, lists the life expectancy of the world's countries.\n",
    "- The last one: https://data.worldbank.org/indicator/SP.POP.TOTL, lists the population."
   ]
  },
  {
   "cell_type": "code",
   "execution_count": 1,
   "metadata": {},
   "outputs": [],
   "source": [
    "import warnings\n",
    "warnings.simplefilter('ignore', FutureWarning)\n",
    "\n",
    "from pandas import *\n",
    "from pandas_datareader.wb import download\n",
    "\n",
    "%matplotlib inline"
   ]
  },
  {
   "cell_type": "code",
   "execution_count": 2,
   "metadata": {},
   "outputs": [],
   "source": [
    "# Function to return rounded values in 'thousants'\n",
    "def roundTo1000 (value):\n",
    "    return round(value/1000)"
   ]
  },
  {
   "cell_type": "code",
   "execution_count": 3,
   "metadata": {},
   "outputs": [],
   "source": [
    "# Function to return rounded values in millions\n",
    "def roundToMillions (value):\n",
    "    return round(value / 1000000)"
   ]
  },
  {
   "cell_type": "code",
   "execution_count": 4,
   "metadata": {},
   "outputs": [
    {
     "data": {
      "text/plain": [
       "(57, 1)"
      ]
     },
     "execution_count": 4,
     "metadata": {},
     "output_type": "execute_result"
    }
   ],
   "source": [
    "# Download World Bank Population indicator\n",
    "INDICATOR = 'SP.POP.TOTL'\n",
    "START_YEAR = 1960\n",
    "END_YEAR = 2016\n",
    "COUNTRY = 'BRA'\n",
    "\n",
    "popBr = download(indicator=INDICATOR, country=COUNTRY, start=START_YEAR, end=END_YEAR)\n",
    "popBr.shape # (57, 1)"
   ]
  },
  {
   "cell_type": "code",
   "execution_count": 5,
   "metadata": {},
   "outputs": [
    {
     "name": "stdout",
     "output_type": "stream",
     "text": [
      "<class 'pandas.core.frame.DataFrame'>\n",
      "MultiIndex: 57 entries, (Brazil, 2016) to (Brazil, 1960)\n",
      "Data columns (total 1 columns):\n",
      "SP.POP.TOTL    57 non-null int64\n",
      "dtypes: int64(1)\n",
      "memory usage: 1.1+ KB\n"
     ]
    }
   ],
   "source": [
    "popBr.info()"
   ]
  },
  {
   "cell_type": "code",
   "execution_count": 6,
   "metadata": {},
   "outputs": [
    {
     "data": {
      "text/plain": [
       "(57, 1)"
      ]
     },
     "execution_count": 6,
     "metadata": {},
     "output_type": "execute_result"
    }
   ],
   "source": [
    "# Download World Bank GDP indicator\n",
    "INDICATOR = 'NY.GDP.MKTP.CD'\n",
    "START_YEAR = 1960\n",
    "END_YEAR = 2016\n",
    "COUNTRY = 'BRA'\n",
    "\n",
    "gdpBr = download(indicator=INDICATOR, country=COUNTRY, start=START_YEAR, end=END_YEAR)\n",
    "gdpBr.shape # (57, 1)"
   ]
  },
  {
   "cell_type": "code",
   "execution_count": 7,
   "metadata": {},
   "outputs": [
    {
     "name": "stdout",
     "output_type": "stream",
     "text": [
      "<class 'pandas.core.frame.DataFrame'>\n",
      "MultiIndex: 57 entries, (Brazil, 2016) to (Brazil, 1960)\n",
      "Data columns (total 1 columns):\n",
      "NY.GDP.MKTP.CD    57 non-null float64\n",
      "dtypes: float64(1)\n",
      "memory usage: 1.1+ KB\n"
     ]
    }
   ],
   "source": [
    "gdpBr.info()"
   ]
  },
  {
   "cell_type": "code",
   "execution_count": 8,
   "metadata": {},
   "outputs": [
    {
     "data": {
      "text/plain": [
       "(57, 1)"
      ]
     },
     "execution_count": 8,
     "metadata": {},
     "output_type": "execute_result"
    }
   ],
   "source": [
    "# Download World Bank Life Expectance indicator\n",
    "INDICATOR = 'SP.DYN.LE00.IN'\n",
    "START_YEAR = 1960\n",
    "END_YEAR = 2016\n",
    "COUNTRY = 'BRA'\n",
    "\n",
    "lifeBr = download(indicator=INDICATOR, country=COUNTRY, start=START_YEAR, end=END_YEAR)\n",
    "lifeBr.shape # (57, 1)"
   ]
  },
  {
   "cell_type": "code",
   "execution_count": 9,
   "metadata": {},
   "outputs": [
    {
     "name": "stdout",
     "output_type": "stream",
     "text": [
      "<class 'pandas.core.frame.DataFrame'>\n",
      "MultiIndex: 57 entries, (Brazil, 2016) to (Brazil, 1960)\n",
      "Data columns (total 1 columns):\n",
      "SP.DYN.LE00.IN    57 non-null float64\n",
      "dtypes: float64(1)\n",
      "memory usage: 1.1+ KB\n"
     ]
    }
   ],
   "source": [
    "lifeBr.info()"
   ]
  },
  {
   "cell_type": "code",
   "execution_count": 10,
   "metadata": {},
   "outputs": [],
   "source": [
    "# Transforming\n",
    "popBr['popTot(1000)'] = popBr['SP.POP.TOTL'].apply(roundTo1000)  \n",
    "gdpBr['gdpTot(USDm)'] = gdpBr['NY.GDP.MKTP.CD'].apply(roundToMillions) \n",
    "lifeBr['lifeExp(years)'] = lifeBr['SP.DYN.LE00.IN'].apply(round) "
   ]
  },
  {
   "cell_type": "code",
   "execution_count": 11,
   "metadata": {},
   "outputs": [],
   "source": [
    "popBr = popBr.reset_index()\n",
    "gdpBr = gdpBr.reset_index()\n",
    "lifeBr = lifeBr.reset_index()"
   ]
  },
  {
   "cell_type": "code",
   "execution_count": 12,
   "metadata": {},
   "outputs": [],
   "source": [
    "dataBr = merge(popBr, gdpBr)"
   ]
  },
  {
   "cell_type": "code",
   "execution_count": 13,
   "metadata": {},
   "outputs": [],
   "source": [
    "dataBr = merge(dataBr, lifeBr)"
   ]
  },
  {
   "cell_type": "code",
   "execution_count": 14,
   "metadata": {},
   "outputs": [
    {
     "data": {
      "text/html": [
       "<div>\n",
       "<style scoped>\n",
       "    .dataframe tbody tr th:only-of-type {\n",
       "        vertical-align: middle;\n",
       "    }\n",
       "\n",
       "    .dataframe tbody tr th {\n",
       "        vertical-align: top;\n",
       "    }\n",
       "\n",
       "    .dataframe thead th {\n",
       "        text-align: right;\n",
       "    }\n",
       "</style>\n",
       "<table border=\"1\" class=\"dataframe\">\n",
       "  <thead>\n",
       "    <tr style=\"text-align: right;\">\n",
       "      <th></th>\n",
       "      <th>country</th>\n",
       "      <th>year</th>\n",
       "      <th>SP.POP.TOTL</th>\n",
       "      <th>popTot(1000)</th>\n",
       "      <th>NY.GDP.MKTP.CD</th>\n",
       "      <th>gdpTot(USDm)</th>\n",
       "      <th>SP.DYN.LE00.IN</th>\n",
       "      <th>lifeExp(years)</th>\n",
       "    </tr>\n",
       "  </thead>\n",
       "  <tbody>\n",
       "    <tr>\n",
       "      <th>0</th>\n",
       "      <td>Brazil</td>\n",
       "      <td>2016</td>\n",
       "      <td>207652865</td>\n",
       "      <td>207653</td>\n",
       "      <td>1.796187e+12</td>\n",
       "      <td>1796187</td>\n",
       "      <td>75.509</td>\n",
       "      <td>76</td>\n",
       "    </tr>\n",
       "    <tr>\n",
       "      <th>1</th>\n",
       "      <td>Brazil</td>\n",
       "      <td>2015</td>\n",
       "      <td>205962108</td>\n",
       "      <td>205962</td>\n",
       "      <td>1.803653e+12</td>\n",
       "      <td>1803653</td>\n",
       "      <td>75.284</td>\n",
       "      <td>75</td>\n",
       "    </tr>\n",
       "    <tr>\n",
       "      <th>2</th>\n",
       "      <td>Brazil</td>\n",
       "      <td>2014</td>\n",
       "      <td>204213133</td>\n",
       "      <td>204213</td>\n",
       "      <td>2.455993e+12</td>\n",
       "      <td>2455993</td>\n",
       "      <td>75.042</td>\n",
       "      <td>75</td>\n",
       "    </tr>\n",
       "    <tr>\n",
       "      <th>3</th>\n",
       "      <td>Brazil</td>\n",
       "      <td>2013</td>\n",
       "      <td>202408632</td>\n",
       "      <td>202409</td>\n",
       "      <td>2.472807e+12</td>\n",
       "      <td>2472807</td>\n",
       "      <td>74.777</td>\n",
       "      <td>75</td>\n",
       "    </tr>\n",
       "    <tr>\n",
       "      <th>4</th>\n",
       "      <td>Brazil</td>\n",
       "      <td>2012</td>\n",
       "      <td>200560983</td>\n",
       "      <td>200561</td>\n",
       "      <td>2.465189e+12</td>\n",
       "      <td>2465189</td>\n",
       "      <td>74.488</td>\n",
       "      <td>74</td>\n",
       "    </tr>\n",
       "  </tbody>\n",
       "</table>\n",
       "</div>"
      ],
      "text/plain": [
       "  country  year  SP.POP.TOTL  popTot(1000)  NY.GDP.MKTP.CD  gdpTot(USDm)  \\\n",
       "0  Brazil  2016    207652865        207653    1.796187e+12       1796187   \n",
       "1  Brazil  2015    205962108        205962    1.803653e+12       1803653   \n",
       "2  Brazil  2014    204213133        204213    2.455993e+12       2455993   \n",
       "3  Brazil  2013    202408632        202409    2.472807e+12       2472807   \n",
       "4  Brazil  2012    200560983        200561    2.465189e+12       2465189   \n",
       "\n",
       "   SP.DYN.LE00.IN  lifeExp(years)  \n",
       "0          75.509              76  \n",
       "1          75.284              75  \n",
       "2          75.042              75  \n",
       "3          74.777              75  \n",
       "4          74.488              74  "
      ]
     },
     "execution_count": 14,
     "metadata": {},
     "output_type": "execute_result"
    }
   ],
   "source": [
    "dataBr.head()"
   ]
  },
  {
   "cell_type": "code",
   "execution_count": 15,
   "metadata": {},
   "outputs": [],
   "source": [
    "dataBr = dataBr[['year', 'popTot(1000)', 'gdpTot(USDm)', 'lifeExp(years)']]"
   ]
  },
  {
   "cell_type": "code",
   "execution_count": 16,
   "metadata": {},
   "outputs": [
    {
     "data": {
      "text/html": [
       "<div>\n",
       "<style scoped>\n",
       "    .dataframe tbody tr th:only-of-type {\n",
       "        vertical-align: middle;\n",
       "    }\n",
       "\n",
       "    .dataframe tbody tr th {\n",
       "        vertical-align: top;\n",
       "    }\n",
       "\n",
       "    .dataframe thead th {\n",
       "        text-align: right;\n",
       "    }\n",
       "</style>\n",
       "<table border=\"1\" class=\"dataframe\">\n",
       "  <thead>\n",
       "    <tr style=\"text-align: right;\">\n",
       "      <th></th>\n",
       "      <th>year</th>\n",
       "      <th>popTot(1000)</th>\n",
       "      <th>gdpTot(USDm)</th>\n",
       "      <th>lifeExp(years)</th>\n",
       "    </tr>\n",
       "  </thead>\n",
       "  <tbody>\n",
       "    <tr>\n",
       "      <th>0</th>\n",
       "      <td>2016</td>\n",
       "      <td>207653</td>\n",
       "      <td>1796187</td>\n",
       "      <td>76</td>\n",
       "    </tr>\n",
       "    <tr>\n",
       "      <th>1</th>\n",
       "      <td>2015</td>\n",
       "      <td>205962</td>\n",
       "      <td>1803653</td>\n",
       "      <td>75</td>\n",
       "    </tr>\n",
       "    <tr>\n",
       "      <th>2</th>\n",
       "      <td>2014</td>\n",
       "      <td>204213</td>\n",
       "      <td>2455993</td>\n",
       "      <td>75</td>\n",
       "    </tr>\n",
       "    <tr>\n",
       "      <th>3</th>\n",
       "      <td>2013</td>\n",
       "      <td>202409</td>\n",
       "      <td>2472807</td>\n",
       "      <td>75</td>\n",
       "    </tr>\n",
       "    <tr>\n",
       "      <th>4</th>\n",
       "      <td>2012</td>\n",
       "      <td>200561</td>\n",
       "      <td>2465189</td>\n",
       "      <td>74</td>\n",
       "    </tr>\n",
       "  </tbody>\n",
       "</table>\n",
       "</div>"
      ],
      "text/plain": [
       "   year  popTot(1000)  gdpTot(USDm)  lifeExp(years)\n",
       "0  2016        207653       1796187              76\n",
       "1  2015        205962       1803653              75\n",
       "2  2014        204213       2455993              75\n",
       "3  2013        202409       2472807              75\n",
       "4  2012        200561       2465189              74"
      ]
     },
     "execution_count": 16,
     "metadata": {},
     "output_type": "execute_result"
    }
   ],
   "source": [
    "dataBr.head()"
   ]
  },
  {
   "cell_type": "code",
   "execution_count": 17,
   "metadata": {},
   "outputs": [],
   "source": [
    "dataBr['gdpPc(USD)'] = ((dataBr['gdpTot(USDm)'] / dataBr['popTot(1000)']) *1000).apply(round)"
   ]
  },
  {
   "cell_type": "code",
   "execution_count": 18,
   "metadata": {},
   "outputs": [
    {
     "data": {
      "text/html": [
       "<div>\n",
       "<style scoped>\n",
       "    .dataframe tbody tr th:only-of-type {\n",
       "        vertical-align: middle;\n",
       "    }\n",
       "\n",
       "    .dataframe tbody tr th {\n",
       "        vertical-align: top;\n",
       "    }\n",
       "\n",
       "    .dataframe thead th {\n",
       "        text-align: right;\n",
       "    }\n",
       "</style>\n",
       "<table border=\"1\" class=\"dataframe\">\n",
       "  <thead>\n",
       "    <tr style=\"text-align: right;\">\n",
       "      <th></th>\n",
       "      <th>year</th>\n",
       "      <th>popTot(1000)</th>\n",
       "      <th>gdpTot(USDm)</th>\n",
       "      <th>lifeExp(years)</th>\n",
       "      <th>gdpPc(USD)</th>\n",
       "    </tr>\n",
       "  </thead>\n",
       "  <tbody>\n",
       "    <tr>\n",
       "      <th>52</th>\n",
       "      <td>1964</td>\n",
       "      <td>81169</td>\n",
       "      <td>21212</td>\n",
       "      <td>56</td>\n",
       "      <td>261</td>\n",
       "    </tr>\n",
       "    <tr>\n",
       "      <th>53</th>\n",
       "      <td>1963</td>\n",
       "      <td>78854</td>\n",
       "      <td>23021</td>\n",
       "      <td>56</td>\n",
       "      <td>292</td>\n",
       "    </tr>\n",
       "    <tr>\n",
       "      <th>54</th>\n",
       "      <td>1962</td>\n",
       "      <td>76573</td>\n",
       "      <td>19926</td>\n",
       "      <td>55</td>\n",
       "      <td>260</td>\n",
       "    </tr>\n",
       "    <tr>\n",
       "      <th>55</th>\n",
       "      <td>1961</td>\n",
       "      <td>74352</td>\n",
       "      <td>15237</td>\n",
       "      <td>55</td>\n",
       "      <td>205</td>\n",
       "    </tr>\n",
       "    <tr>\n",
       "      <th>56</th>\n",
       "      <td>1960</td>\n",
       "      <td>72208</td>\n",
       "      <td>15166</td>\n",
       "      <td>54</td>\n",
       "      <td>210</td>\n",
       "    </tr>\n",
       "  </tbody>\n",
       "</table>\n",
       "</div>"
      ],
      "text/plain": [
       "    year  popTot(1000)  gdpTot(USDm)  lifeExp(years)  gdpPc(USD)\n",
       "52  1964         81169         21212              56         261\n",
       "53  1963         78854         23021              56         292\n",
       "54  1962         76573         19926              55         260\n",
       "55  1961         74352         15237              55         205\n",
       "56  1960         72208         15166              54         210"
      ]
     },
     "execution_count": 18,
     "metadata": {},
     "output_type": "execute_result"
    }
   ],
   "source": [
    "dataBr.tail()"
   ]
  },
  {
   "cell_type": "code",
   "execution_count": 26,
   "metadata": {},
   "outputs": [],
   "source": [
    "YEAR = 'year'\n",
    "POP = 'popTot(1000)'\n",
    "GDP = 'gdpTot(USDm)'\n",
    "GDP_PC = 'gdpPc(USD)'\n",
    "LIFE ='lifeExp(years)'"
   ]
  },
  {
   "cell_type": "code",
   "execution_count": 20,
   "metadata": {},
   "outputs": [],
   "source": [
    "dataBr = dataBr.sort_values(YEAR)"
   ]
  },
  {
   "cell_type": "code",
   "execution_count": 21,
   "metadata": {},
   "outputs": [
    {
     "data": {
      "text/plain": [
       "<matplotlib.axes._subplots.AxesSubplot at 0x108862710>"
      ]
     },
     "execution_count": 21,
     "metadata": {},
     "output_type": "execute_result"
    },
    {
     "data": {
      "image/png": "[encoded data removed]",
      "text/plain": [
       "<matplotlib.figure.Figure at 0x10882a240>"
      ]
     },
     "metadata": {},
     "output_type": "display_data"
    }
   ],
   "source": [
    "dataBr.plot(x=YEAR, y=LIFE, kind='line', grid=True, logx=False, figsize = (10, 4))"
   ]
  },
  {
   "cell_type": "code",
   "execution_count": 22,
   "metadata": {},
   "outputs": [
    {
     "data": {
      "text/plain": [
       "<matplotlib.axes._subplots.AxesSubplot at 0x10e351a20>"
      ]
     },
     "execution_count": 22,
     "metadata": {},
     "output_type": "execute_result"
    },
    {
     "data": {
      "image/png": "[encoded data removed]",
      "text/plain": [
       "<matplotlib.figure.Figure at 0x10e2e4160>"
      ]
     },
     "metadata": {},
     "output_type": "display_data"
    }
   ],
   "source": [
    "dataBr.plot(x=YEAR, y=GDP, kind='line', grid=True, logy=False, figsize = (10, 4))"
   ]
  },
  {
   "cell_type": "code",
   "execution_count": 23,
   "metadata": {},
   "outputs": [
    {
     "data": {
      "text/plain": [
       "<matplotlib.axes._subplots.AxesSubplot at 0x111733208>"
      ]
     },
     "execution_count": 23,
     "metadata": {},
     "output_type": "execute_result"
    },
    {
     "data": {
      "image/png": "[encoded data removed]",
      "text/plain": [
       "<matplotlib.figure.Figure at 0x107f57860>"
      ]
     },
     "metadata": {},
     "output_type": "display_data"
    }
   ],
   "source": [
    "dataBr.plot(x=YEAR, y=POP, kind='line', grid=True, logy=False, figsize = (10, 4))"
   ]
  },
  {
   "cell_type": "code",
   "execution_count": 27,
   "metadata": {},
   "outputs": [
    {
     "data": {
      "text/plain": [
       "<matplotlib.axes._subplots.AxesSubplot at 0x1a13316898>"
      ]
     },
     "execution_count": 27,
     "metadata": {},
     "output_type": "execute_result"
    },
    {
     "data": {
      "image/png": "[encoded data removed]",
      "text/plain": [
       "<matplotlib.figure.Figure at 0x1a13364ac8>"
      ]
     },
     "metadata": {},
     "output_type": "display_data"
    }
   ],
   "source": [
    "dataBr.plot(x=YEAR, y=GDP_PC, kind='line', grid=True, logy=False, figsize = (10, 4))"
   ]
  },
  {
   "cell_type": "code",
   "execution_count": 24,
   "metadata": {},
   "outputs": [
    {
     "name": "stdout",
     "output_type": "stream",
     "text": [
      "The correlation is 0.9804684950090623\n",
      "It is statistically significant.\n"
     ]
    }
   ],
   "source": [
    "from scipy.stats import spearmanr\n",
    "\n",
    "dataA = dataBr[GDP]\n",
    "dataB = dataBr[LIFE]\n",
    "(correlation, pValue) = spearmanr(dataA, dataB)\n",
    "print('The correlation is', correlation)\n",
    "if pValue < 0.05:\n",
    "    print('It is statistically significant.')\n",
    "else:\n",
    "    print('It is not statistically significant.')"
   ]
  },
  {
   "cell_type": "code",
   "execution_count": 28,
   "metadata": {},
   "outputs": [
    {
     "data": {
      "text/plain": [
       "<matplotlib.axes._subplots.AxesSubplot at 0x1a1383a5c0>"
      ]
     },
     "execution_count": 28,
     "metadata": {},
     "output_type": "execute_result"
    },
    {
     "data": {
      "image/png": "[encoded data removed]",
      "text/plain": [
       "<matplotlib.figure.Figure at 0x1a137b29e8>"
      ]
     },
     "metadata": {},
     "output_type": "display_data"
    }
   ],
   "source": [
    "dataBr.plot(x=GDP, y=LIFE, kind='scatter', grid=True, logx=False, figsize = (10, 4))"
   ]
  },
  {
   "cell_type": "markdown",
   "metadata": {},
   "source": [
    "## Conclusion"
   ]
  },
  {
   "cell_type": "markdown",
   "metadata": {},
   "source": [
    "There is a total correlation between the GDP Growth and a higher poplulation Life expectancy - More money, more years to live!"
   ]
  }
 ],
 "metadata": {
  "kernelspec": {
   "display_name": "Python 3",
   "language": "python",
   "name": "python3"
  },
  "language_info": {
   "codemirror_mode": {
    "name": "ipython",
    "version": 3
   },
   "file_extension": ".py",
   "mimetype": "text/x-python",
   "name": "python",
   "nbconvert_exporter": "python",
   "pygments_lexer": "ipython3",
   "version": "3.6.4"
  }
 },
 "nbformat": 4,
 "nbformat_minor": 2
}
